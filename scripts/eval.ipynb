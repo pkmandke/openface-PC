{
 "cells": [
  {
   "cell_type": "markdown",
   "metadata": {},
   "source": [
    "# Aligning using the affine transform and cropping\n",
    "\n",
    "Sections of code adopted from [openface](https://github.com/cmusatyalab/openface/blob/master/openface/align_dlib.py)."
   ]
  },
  {
   "cell_type": "code",
   "execution_count": 1,
   "metadata": {},
   "outputs": [],
   "source": [
    "import numpy as np\n",
    "import cv2\n",
    "import aligndlib as adl\n",
    "import matplotlib.pyplot as plt\n",
    "import os"
   ]
  },
  {
   "cell_type": "code",
   "execution_count": 2,
   "metadata": {},
   "outputs": [
    {
     "data": {
      "text/plain": [
       "'4.0.0'"
      ]
     },
     "execution_count": 2,
     "metadata": {},
     "output_type": "execute_result"
    }
   ],
   "source": [
    "cv2.__version__"
   ]
  },
  {
   "cell_type": "code",
   "execution_count": 3,
   "metadata": {},
   "outputs": [],
   "source": [
    "pred_path = '/home/prathamesh/undergrad/btech_proj/misc/openface/testing/shape_predictor_68_face_landmarks.dat'"
   ]
  },
  {
   "cell_type": "code",
   "execution_count": 5,
   "metadata": {},
   "outputs": [],
   "source": [
    "def rect_to_bb(rect):\n",
    "    # take a bounding predicted by dlib and convert it\n",
    "    # to the format (x, y, w, h) as we would normally do\n",
    "    # with OpenCV\n",
    "    x = rect.left()\n",
    "    y = rect.top()\n",
    "    w = rect.right() - x\n",
    "    h = rect.bottom() - y\n",
    " \n",
    "    # return a tuple of (x, y, w, h)\n",
    "    return (x, y, w, h)"
   ]
  },
  {
   "cell_type": "code",
   "execution_count": 7,
   "metadata": {},
   "outputs": [
    {
     "name": "stdout",
     "output_type": "stream",
     "text": [
      "skipped70 -184 1963 1533 1380\n",
      "skipped167 -24 952 100 90\n"
     ]
    }
   ],
   "source": [
    "#Generate cropped and affine aligned images\n",
    "\n",
    "al = adl.AlignDlib(pred_path)\n",
    "out_path = '/home/prathamesh/undergrad/btech_proj/misc/openface/pc_demo/Photos/aligned/all/'\n",
    "empty = []\n",
    "os.chdir('/home/prathamesh/undergrad/btech_proj/misc/openface/pc_demo/Photos/Group/')\n",
    "un_aligned = []\n",
    "\n",
    "for _ in range(197):\n",
    "    img = cv2.imread(os.getcwd() + '/' + str(_) + '.jpg')\n",
    "    bbx = al.getAllFaceBoundingBoxes(img)\n",
    "    if bbx == None:\n",
    "        empty.append(_)\n",
    "    else:\n",
    "        j = 0\n",
    "        for _crp in bbx:\n",
    "            (x, y, w, h) = rect_to_bb(_crp)\n",
    "            if x <= 0 or y <= 0 or w <= 0 or h <= 0:\n",
    "                print('skipped'+str(_), x, y, w, h)\n",
    "                continue\n",
    "            aldimg = al.align(96, img, bb=_crp)\n",
    "            cv2.imwrite(out_path + str(_) + '_'+ str(j) + '.jpg', aldimg.astype('uint8'))\n",
    "            j = j + 1"
   ]
  }
 ],
 "metadata": {
  "kernelspec": {
   "display_name": "Python 3",
   "language": "python",
   "name": "python3"
  },
  "language_info": {
   "codemirror_mode": {
    "name": "ipython",
    "version": 3
   },
   "file_extension": ".py",
   "mimetype": "text/x-python",
   "name": "python",
   "nbconvert_exporter": "python",
   "pygments_lexer": "ipython3",
   "version": "3.5.2"
  }
 },
 "nbformat": 4,
 "nbformat_minor": 2
}
