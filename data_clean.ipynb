{
 "cells": [
  {
   "cell_type": "markdown",
   "metadata": {},
   "source": [
    "# Script to crop and label images for clustering embeddings"
   ]
  },
  {
   "cell_type": "code",
   "execution_count": 3,
   "metadata": {},
   "outputs": [],
   "source": [
    "import numpy as np\n",
    "import cv2\n",
    "import aligndlib as adl\n",
    "import matplotlib.pyplot as plt\n",
    "import os"
   ]
  },
  {
   "cell_type": "code",
   "execution_count": 4,
   "metadata": {},
   "outputs": [
    {
     "data": {
      "text/plain": [
       "'4.0.0'"
      ]
     },
     "execution_count": 4,
     "metadata": {},
     "output_type": "execute_result"
    }
   ],
   "source": [
    "cv2.__version__"
   ]
  },
  {
   "cell_type": "code",
   "execution_count": null,
   "metadata": {},
   "outputs": [],
   "source": [
    "img_path = '/home/prathamesh/undergrad/btech_proj/resources/DBs/VGG2/test/n000029/0012_01.jpg'\n",
    "pred_path = '/home/prathamesh/undergrad/btech_proj/misc/openface/testing/shape_predictor_68_face_landmarks.dat'"
   ]
  },
  {
   "cell_type": "code",
   "execution_count": null,
   "metadata": {},
   "outputs": [],
   "source": [
    "os.chdir('/home/prathamesh/undergrad/btech_proj/misc/openface/pc_demo/Photos/')\n",
    "i = 0\n",
    "for _ in os.listdir(os.getcwd() + '/Group/'):\n",
    "    os.rename(os.getcwd() + '/Group/' + _, os.getcwd() + '/Group/' + str(i) + '.jpg')\n",
    "    i = i + 1"
   ]
  },
  {
   "cell_type": "code",
   "execution_count": null,
   "metadata": {},
   "outputs": [],
   "source": [
    "al = adl.AlignDlib(pred_path)\n",
    "out_path = '/home/prathamesh/undergrad/btech_proj/misc/openface/pc_demo/Photos/cropped/'\n",
    "empty = []\n",
    "os.chdir('/home/prathamesh/undergrad/btech_proj/misc/openface/pc_demo/Photos/Group/')\n",
    "\n",
    "#img = cv2.imread(os.getcwd() + '/' + '11' + '.jpg')\n",
    "#bbx = al.getAllFaceBoundingBoxes(img)\n",
    "#print(bbx, type(bbx))\n",
    "for _ in bbx:\n",
    "    print(type(_), type(_.left()))\n",
    "    print(\"hjsdfb\")"
   ]
  },
  {
   "cell_type": "code",
   "execution_count": 5,
   "metadata": {},
   "outputs": [],
   "source": [
    "def rect_to_bb(rect):\n",
    "    # take a bounding predicted by dlib and convert it\n",
    "    # to the format (x, y, w, h) as we would normally do\n",
    "    # with OpenCV\n",
    "    x = rect.left()\n",
    "    y = rect.top()\n",
    "    w = rect.right() - x\n",
    "    h = rect.bottom() - y\n",
    " \n",
    "    # return a tuple of (x, y, w, h)\n",
    "    return (x, y, w, h)\n"
   ]
  },
  {
   "cell_type": "code",
   "execution_count": null,
   "metadata": {},
   "outputs": [],
   "source": [
    "# Generate crops of all faces found in image\n",
    "\n",
    "al = adl.AlignDlib(pred_path)\n",
    "out_path = '/home/prathamesh/undergrad/btech_proj/misc/openface/pc_demo/Photos/cropped/'\n",
    "empty = []\n",
    "os.chdir('/home/prathamesh/undergrad/btech_proj/misc/openface/pc_demo/Photos/Group/')\n",
    "\n",
    "for _ in range(70, 197):\n",
    "    img = cv2.imread(os.getcwd() + '/' + str(_) + '.jpg')\n",
    "    bbx = al.getAllFaceBoundingBoxes(img)\n",
    "    if bbx == None:\n",
    "        empty.append(_)\n",
    "    else:\n",
    "        j = 0\n",
    "        for _crp in bbx:\n",
    "            (x, y, w, h) = rect_to_bb(_crp)\n",
    "            if x <= 0 or y <= 0 or w <= 0 or h <= 0:\n",
    "                print('skipped'+str(_), x, y, w, h)\n",
    "                continue\n",
    "            else:\n",
    "                #print(_, x, y, w, h)\n",
    "                cv2.imwrite(out_path + str(_) + str(j) + 'cr.jpg', cv2.resize(img[y:y+h, x:x+w].astype('uint8'),(96,96)))\n",
    "            j = j + 1"
   ]
  }
 ],
 "metadata": {
  "kernelspec": {
   "display_name": "Python 3",
   "language": "python",
   "name": "python3"
  },
  "language_info": {
   "codemirror_mode": {
    "name": "ipython",
    "version": 3
   },
   "file_extension": ".py",
   "mimetype": "text/x-python",
   "name": "python",
   "nbconvert_exporter": "python",
   "pygments_lexer": "ipython3",
   "version": "3.5.2"
  }
 },
 "nbformat": 4,
 "nbformat_minor": 2
}
